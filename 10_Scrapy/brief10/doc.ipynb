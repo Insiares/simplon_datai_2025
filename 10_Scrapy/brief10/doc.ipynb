{
 "cells": [
  {
   "cell_type": "code",
   "execution_count": null,
   "metadata": {},
   "outputs": [],
   "source": [
    "#Using scrapy in a shell \n",
    "!scrapy shell 'https://quotes.toscrape.com'\n"
   ]
  },
  {
   "cell_type": "code",
   "execution_count": null,
   "metadata": {},
   "outputs": [],
   "source": [
    "#extractin a quote \n",
    "quote = response.css(\"div.quote\")[0]\n",
    "\n",
    "#text only \n",
    "text = quote.css(\"span.text::text\").get()\n",
    "\n",
    "# author\n",
    "author = quote.css(\"small.author::text\").get()\n"
   ]
  },
  {
   "cell_type": "code",
   "execution_count": null,
   "metadata": {},
   "outputs": [],
   "source": [
    "# put all elements together in a dict : \n",
    "for quote in response.css(\"div.quote\"):\n",
    "    text = quote.css(\"span.text::text\").get()\n",
    "    author = quote.css(\"small.author::text\").get()\n",
    "    print(dict(text=text, author=author))"
   ]
  },
  {
   "cell_type": "code",
   "execution_count": null,
   "metadata": {},
   "outputs": [],
   "source": [
    "#declaring a spider : \n",
    "\n",
    "import scrapy\n",
    "\n",
    "class QuoteSpider(scrapy.spider):\n",
    "    name = \"quotes\"\n",
    "    start_url = [\n",
    "        'https://quotes.toscrape.com/page/1/',\n",
    "        'https://quotes.toscrape.com/page/2/',\n",
    "    ]\n",
    "\n",
    "    def parse(self, response):\n",
    "        for quote in response.css('div.quote'):\n",
    "            yield {\n",
    "                'text': quote.css('span.text::text').get(),\n",
    "                'author': quote.css('small.author::text').get(),\n",
    "            }"
   ]
  },
  {
   "cell_type": "code",
   "execution_count": null,
   "metadata": {},
   "outputs": [],
   "source": [
    "# Parsing with xpath?\n"
   ]
  },
  {
   "cell_type": "code",
   "execution_count": 15,
   "metadata": {},
   "outputs": [
    {
     "name": "stdout",
     "output_type": "stream",
     "text": [
      "100\n"
     ]
    }
   ],
   "source": [
    "from pymongo import MongoClient\n",
    "\n",
    "mongo = MongoClient()\n",
    "\n",
    "db= mongo.quote_db\n",
    "\n",
    "collection = db.quotes\n",
    "i= 0 \n",
    "for quotes in collection.find():\n",
    "    i = i+1\n",
    "\n",
    "print(i)\n",
    "\n",
    "mongo.close()"
   ]
  },
  {
   "cell_type": "code",
   "execution_count": 12,
   "metadata": {},
   "outputs": [],
   "source": [
    "# Create a compound index on content and author using pymongo\n",
    "from pymongo import MongoClient\n",
    "\n",
    "client = MongoClient()\n",
    "\n",
    "# Access the database\n",
    "db = client.quote_db\n",
    "\n",
    "# Access the collection\n",
    "collection = db.quotes\n",
    "\n",
    "# Create the compound index on content (unique)and author\n",
    "\n",
    "collection.create_index([(\"content\", 1)], unique=True)\n",
    "collection.create_index([(\"author\", 1)])\n",
    "#collection.create_index([(\"content\", 1), (\"author\", 1)])\n",
    "\n",
    "client.close()"
   ]
  },
  {
   "cell_type": "code",
   "execution_count": 5,
   "metadata": {},
   "outputs": [
    {
     "data": {
      "text/plain": [
       "[]"
      ]
     },
     "execution_count": 5,
     "metadata": {},
     "output_type": "execute_result"
    }
   ],
   "source": [
    "db.list_collection_names()"
   ]
  },
  {
   "cell_type": "code",
   "execution_count": 10,
   "metadata": {},
   "outputs": [
    {
     "name": "stdout",
     "output_type": "stream",
     "text": [
      "========var1======== ========var2========\n",
      "================var1 var2================\n",
      "var1================ ================var2\n",
      "*************************************Title**************************************\n"
     ]
    }
   ],
   "source": [
    "var1 = 'var1'\n",
    "var2 = 'var2'\n",
    "title = 'Title'\n",
    "print(f'{var1 :=^20} {var2 :=^20}')\n",
    "print(f'{var1 :=>20} {var2 :=<20}')\n",
    "print(f'{var1 :=<20} {var2 :=>20}')\n",
    "print(f'{title :*^80}')"
   ]
  }
 ],
 "metadata": {
  "kernelspec": {
   "display_name": "Python 3",
   "language": "python",
   "name": "python3"
  },
  "language_info": {
   "codemirror_mode": {
    "name": "ipython",
    "version": 3
   },
   "file_extension": ".py",
   "mimetype": "text/x-python",
   "name": "python",
   "nbconvert_exporter": "python",
   "pygments_lexer": "ipython3",
   "version": "3.11.4"
  }
 },
 "nbformat": 4,
 "nbformat_minor": 2
}
