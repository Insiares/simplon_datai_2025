{
 "cells": [
  {
   "cell_type": "code",
   "execution_count": 10,
   "metadata": {},
   "outputs": [
    {
     "name": "stdout",
     "output_type": "stream",
     "text": [
      "Root mean Square error Gradient Boosting: 58.70\n",
      "Score boosting: 0.39\n",
      "Root mean Square error Linear Regression: 54.63\n",
      "Score Linear regression: 0.47\n"
     ]
    }
   ],
   "source": [
    "# Import the necessary libraries\n",
    "from sklearn.ensemble import GradientBoostingRegressor\n",
    "from sklearn.linear_model import LinearRegression\n",
    "from sklearn.model_selection import train_test_split\n",
    "from sklearn.metrics import mean_squared_error\n",
    "from sklearn.datasets import load_diabetes\n",
    "\n",
    "# Setting SEED for reproducibility\n",
    "SEED = 23\n",
    "\n",
    "# Importing the dataset \n",
    "X, y = load_diabetes(return_X_y=True)\n",
    "\n",
    "# Splitting dataset\n",
    "train_X, test_X, train_y, test_y = train_test_split(X, y, \n",
    "\t\t\t\t\t\t\t\t\t\t\t\t\ttest_size = 0.25, \n",
    "\t\t\t\t\t\t\t\t\t\t\t\t\trandom_state = SEED)\n",
    "\n",
    "# Instantiate Gradient Boosting Regressor\n",
    "gbr = GradientBoostingRegressor(loss='squared_error',\n",
    "\t\t\t\t\t\t\t\tlearning_rate=0.01,\n",
    "\t\t\t\t\t\t\t\tn_estimators=500,\n",
    "\t\t\t\t\t\t\t\tmax_depth = 4, \n",
    "                                min_samples_split=5,\n",
    "\t\t\t\t\t\t\t\tmax_features = 10)\n",
    "\n",
    "lr = LinearRegression()\n",
    "# Fit to training set\n",
    "gbr.fit(train_X, train_y)\n",
    "lr.fit(train_X, train_y)\n",
    "# Predict on test set\n",
    "pred_y_gbr = gbr.predict(test_X)\n",
    "pred_y_lr = lr.predict(test_X)\n",
    "# test set RMSE\n",
    "test_rmse_gbr = mean_squared_error(test_y, pred_y_gbr, squared=False) \n",
    "test_rmse_lr = mean_squared_error(test_y, pred_y_lr, squared=False) \n",
    "\n",
    "# Print rmse\n",
    "print('Root mean Square error Gradient Boosting: {:.2f}'.format(test_rmse_gbr))\n",
    "print('Score boosting: {:.2f}'.format(gbr.score(test_X, test_y)))\n",
    "\n",
    "print('Root mean Square error Linear Regression: {:.2f}'.format(test_rmse_lr))\n",
    "print('Score Linear regression: {:.2f}'.format(lr.score(test_X, test_y)))\n",
    "\n"
   ]
  }
 ],
 "metadata": {
  "kernelspec": {
   "display_name": "base",
   "language": "python",
   "name": "python3"
  },
  "language_info": {
   "codemirror_mode": {
    "name": "ipython",
    "version": 3
   },
   "file_extension": ".py",
   "mimetype": "text/x-python",
   "name": "python",
   "nbconvert_exporter": "python",
   "pygments_lexer": "ipython3",
   "version": "3.11.4"
  },
  "orig_nbformat": 4
 },
 "nbformat": 4,
 "nbformat_minor": 2
}
