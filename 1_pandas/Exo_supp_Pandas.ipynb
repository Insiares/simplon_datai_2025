{
 "cells": [
  {
   "cell_type": "markdown",
   "metadata": {},
   "source": [
    "Exercice 6 - Traitement des valeurs manquantes :\n",
    "- Téléchargez le fichier CSV \"sales_data.csv\" à partir du lien suivant : https://github.com/ine-rmotr-curriculum/FreeCodeCamp-Pandas-Real-Life-Example/blob/master/data/sales_data.csv\n",
    "- Chargez le fichier dans un DataFrame nommé \"sales_df\".\n",
    "- Affichez le nombre de valeurs manquantes dans chaque colonne du DataFrame.\n",
    "\n",
    "Exercice 7 - Suppression des doublons :\n",
    "- Téléchargez le fichier CSV \"GlobalLandTemperaturesByMajorCity.csv\" à partir du lien suivant : https://www.kaggle.com/datasets/berkeleyearth/climate-change-earth-surface-temperature-data?select=GlobalLandTemperaturesByMajorCity.csv\n",
    "- Chargez le fichier dans un DataFrame nommé \"duplicate_df\".\n",
    "- Supprimez les lignes en double du DataFrame.\n",
    "- Afficher la taille des Dataframes avant et après\n",
    "\n",
    "Exercice 8 - Remplacement des valeurs incorrectes :\n",
    "- Chargez le fichier dans un DataFrame nommé \"temperature_df\".\n",
    "- Remplacez les valeurs négatives dans la colonne \"AverageTemperature\" par la valeur absolue de ces valeurs.\n",
    "- Afficher le minimum avant et après\n",
    "\n",
    "Exercice 9 - Extraction de données :\n",
    "- Téléchargez le fichier CSV \"email_jetable.csv\" à partir du lien suivant : https://sql.sh/ressources/sql-email-jetable/email_jetable.csv\n",
    "- Chargez le fichier dans un DataFrame nommé \"emails_df\".\n",
    "- Donnez un nom aux colonnes: [index, emails]\n",
    "- Créez une nouvelle colonne \"extension\" contenant uniquement l’extension du domaines des adresses e-mail (com, fr etc…).\n",
    "- Affichez les valeurs unique de la colonne “extension”\n",
    "\n",
    "Exercice 10 - Transformation de données :\n",
    "- Téléchargez le fichier CSV \"student_grades.csv\" à partir du lien suivant : https://raw.githubusercontent.com/datasciencedojo/datasets/master/student_grades.csv\n",
    "- Chargez le fichier dans un DataFrame nommé \"grades_df\".\n",
    "- Donnez un nom aux colonnes: ['ID','salle','note']\n",
    "- Ajoutez une colonne note_dec qui contient les notes de 0 à 17 (E- à A+)\n",
    "- Convertissez les notes pour qu’elles soient entre 0 et 20 en appliquant une fonctino\n",
    "- Ajoutez une colonne \"result\" qui contiendra \"Réussite\" pour les étudiants ayant une note supérieure ou égale à 10, sinon \"Échec\"."
   ]
  },
  {
   "cell_type": "code",
   "execution_count": null,
   "metadata": {},
   "outputs": [],
   "source": []
  }
 ],
 "metadata": {
  "language_info": {
   "name": "python"
  },
  "orig_nbformat": 4
 },
 "nbformat": 4,
 "nbformat_minor": 2
}
