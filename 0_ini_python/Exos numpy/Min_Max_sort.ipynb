{
 "cells": [
  {
   "cell_type": "markdown",
   "metadata": {},
   "source": [
    "## Fonctions min, max, sort, maison"
   ]
  },
  {
   "cell_type": "code",
   "execution_count": 49,
   "metadata": {},
   "outputs": [
    {
     "name": "stdout",
     "output_type": "stream",
     "text": [
      "[300 315 441 347 427 449 405  41 472  51  89 228 463 211 392 167 318 418\n",
      " 399 207 478 465  45 104  57 491 175  78  45  74 230 486 400 235  18 394\n",
      " 390 209 102 366   6 479 206 293 212 323 255 111 273  61]\n"
     ]
    },
    {
     "data": {
      "text/plain": [
       "491"
      ]
     },
     "execution_count": 49,
     "metadata": {},
     "output_type": "execute_result"
    }
   ],
   "source": [
    "import numpy as np\n",
    "rand = np.random.default_rng()\n",
    "\n",
    "def my_max(x):\n",
    "    '''\n",
    "    détermine le maximum d'une liste\n",
    "\n",
    "    input: une liste/ un array\n",
    "\n",
    "    ouput : valeur maximum \n",
    "    '''\n",
    "    i = x[0]\n",
    "    for y in x:\n",
    "        if y > i:\n",
    "            i = y \n",
    "    return i\n",
    "d = rand.integers(low = 0, high= 500, size = 50)\n",
    "print(d)\n",
    "my_max(d)"
   ]
  },
  {
   "cell_type": "code",
   "execution_count": 50,
   "metadata": {},
   "outputs": [
    {
     "data": {
      "text/plain": [
       "6"
      ]
     },
     "execution_count": 50,
     "metadata": {},
     "output_type": "execute_result"
    }
   ],
   "source": [
    "def my_min(x):\n",
    "    '''\n",
    "    détermine le minimum d'une liste\n",
    "\n",
    "    input: une liste/ un array\n",
    "\n",
    "    ouput : valeur minimum\n",
    "    '''\n",
    "    i = x[0]\n",
    "    for y in x:\n",
    "        if y < i:\n",
    "            i = y \n",
    "    return i\n",
    "\n",
    "my_min(d)"
   ]
  },
  {
   "cell_type": "code",
   "execution_count": 51,
   "metadata": {},
   "outputs": [
    {
     "name": "stdout",
     "output_type": "stream",
     "text": [
      "[300 315 441 347 427 449 405  41 472  51  89 228 463 211 392 167 318 418\n",
      " 399 207 478 465  45 104  57 491 175  78  45  74 230 486 400 235  18 394\n",
      " 390 209 102 366   6 479 206 293 212 323 255 111 273  61]\n"
     ]
    },
    {
     "data": {
      "text/plain": [
       "[491,\n",
       " 486,\n",
       " 479,\n",
       " 478,\n",
       " 472,\n",
       " 465,\n",
       " 463,\n",
       " 449,\n",
       " 441,\n",
       " 427,\n",
       " 418,\n",
       " 405,\n",
       " 400,\n",
       " 399,\n",
       " 394,\n",
       " 392,\n",
       " 390,\n",
       " 366,\n",
       " 347,\n",
       " 323,\n",
       " 318,\n",
       " 315,\n",
       " 300,\n",
       " 293,\n",
       " 273,\n",
       " 255,\n",
       " 235,\n",
       " 230,\n",
       " 228,\n",
       " 212,\n",
       " 211,\n",
       " 209,\n",
       " 207,\n",
       " 206,\n",
       " 175,\n",
       " 167,\n",
       " 111,\n",
       " 104,\n",
       " 102,\n",
       " 89,\n",
       " 78,\n",
       " 74,\n",
       " 61,\n",
       " 57,\n",
       " 51,\n",
       " 45,\n",
       " 45,\n",
       " 41,\n",
       " 18,\n",
       " 6]"
      ]
     },
     "execution_count": 51,
     "metadata": {},
     "output_type": "execute_result"
    }
   ],
   "source": [
    "def my_sort(x, order=1):\n",
    "    '''\n",
    "    arrange une liste/un array dans l'ordre croissant ou décroissant\n",
    "\n",
    "    input : liste/array , ordre = 1 pour croissant, -1 pour décroissant (1 par défaut)\n",
    "\n",
    "    output: liste triée\n",
    "    '''\n",
    "\n",
    "    y=[]\n",
    "\n",
    "    #on vérifie le dtype afin d'accepter les arrays\n",
    "    if type(x[0]) != int:\n",
    "        x = x.tolist()\n",
    "    \n",
    "    #décroissant\n",
    "    if order == -1:\n",
    "        while len(x)>0:\n",
    "            a = max(x)\n",
    "            x.remove(a)\n",
    "            y.append(a)\n",
    "        return y\n",
    "    \n",
    "    #croissant\n",
    "    elif order == 1:\n",
    "        while len(x)>0:\n",
    "            a = min(x)\n",
    "            x.remove(a)\n",
    "            y.append(a)\n",
    "        return y\n",
    "    \n",
    "print(d)\n",
    "my_sort(d,-1)\n",
    "    "
   ]
  }
 ],
 "metadata": {
  "kernelspec": {
   "display_name": "base",
   "language": "python",
   "name": "python3"
  },
  "language_info": {
   "codemirror_mode": {
    "name": "ipython",
    "version": 3
   },
   "file_extension": ".py",
   "mimetype": "text/x-python",
   "name": "python",
   "nbconvert_exporter": "python",
   "pygments_lexer": "ipython3",
   "version": "3.11.4"
  },
  "orig_nbformat": 4
 },
 "nbformat": 4,
 "nbformat_minor": 2
}
