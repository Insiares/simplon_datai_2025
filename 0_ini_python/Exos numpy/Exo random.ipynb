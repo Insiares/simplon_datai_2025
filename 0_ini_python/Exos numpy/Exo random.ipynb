{
 "cells": [
  {
   "cell_type": "markdown",
   "metadata": {},
   "source": [
    "## Numpy random\n",
    "Faire un générateur de nombre aléatoire pour le loto et l'euromillion. Attention c’est un tirage aléatoire sans remise (c.a.d que la boule trouvée n’est pas remise en jeu) et tous les chiffres ont la même probabilité d’apparaître.\n",
    "\n",
    "Reprenez l’exercice 16 et faites en sorte que le nombre à trouver soit aléatoire et compris entre 1 et 1000: \n",
    "“Écrivez un programme qui demande à l'utilisateur de deviner un nombre secret (par exemple 42). Le programme indique à l'utilisateur si le nombre à deviner est plus grand ou plus petit que sa proposition et continue de demander un nombre tant que l'utilisateur ne trouve pas le nombre secret. Une fois que l'utilisateur trouve le nombre secret, affichez un message de félicitations.”\n",
    "\n",
    "\"5 numéro entre 1 et 50, deux numéros complémentaires entre 1 et 12\""
   ]
  },
  {
   "cell_type": "code",
   "execution_count": 3,
   "metadata": {},
   "outputs": [],
   "source": [
    "import numpy as np\n",
    "\n",
    "def tirage_bourrin(taille_tirage, taille_grille):\n",
    "    tirage = list()\n",
    "    if taille_grille<= taille_tirage:\n",
    "        raise ValueError(\"pas possible ça\")\n",
    "\n",
    "    for n in range(taille_tirage):\n",
    "        y = np.random.randint(low = 1, high= taille_grille+1, size = 1)\n",
    "        while y in tirage:\n",
    "            y = np.random.randint(low = 1, high= taille_grille+1, size = 1)\n",
    "        \n",
    "        tirage.append(y)\n",
    "\n",
    "    return tirage\n"
   ]
  },
  {
   "cell_type": "code",
   "execution_count": 9,
   "metadata": {},
   "outputs": [
    {
     "name": "stdout",
     "output_type": "stream",
     "text": [
      "Le tirage du jour : [9, 35, 16, 17, 26] et le numéro complémentaire [2]\n"
     ]
    }
   ],
   "source": [
    "\n",
    "def tirage_moins_bourrin(taille_tirage, taille_grille):\n",
    "    \n",
    "    if taille_grille<= taille_tirage:\n",
    "        raise ValueError(\"pas possible ça\")\n",
    "    grille = np.arange(1, taille_grille+1)\n",
    "    y = np.random.choice(grille, size= taille_tirage, replace=False)\n",
    "    \n",
    "    return y\n",
    "\n",
    "def loto():\n",
    "    #tirage initial:\n",
    "    ini = tirage_moins_bourrin(5,50)\n",
    "    comp = tirage_moins_bourrin(1, 10)\n",
    "    print(f'Le tirage du jour : {[ini[i] for i in range(len(ini))]} et le numéro complémentaire {comp}')\n",
    "\n",
    "loto()\n"
   ]
  }
 ],
 "metadata": {
  "kernelspec": {
   "display_name": "base",
   "language": "python",
   "name": "python3"
  },
  "language_info": {
   "codemirror_mode": {
    "name": "ipython",
    "version": 3
   },
   "file_extension": ".py",
   "mimetype": "text/x-python",
   "name": "python",
   "nbconvert_exporter": "python",
   "pygments_lexer": "ipython3",
   "version": "3.11.4"
  },
  "orig_nbformat": 4
 },
 "nbformat": 4,
 "nbformat_minor": 2
}
