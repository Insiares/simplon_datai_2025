{
 "cells": [
  {
   "cell_type": "code",
   "execution_count": 7,
   "metadata": {},
   "outputs": [
    {
     "name": "stdout",
     "output_type": "stream",
     "text": [
      "a=array([1, 2, 3, 4, 5, 6])\n"
     ]
    }
   ],
   "source": [
    "import numpy as np\n",
    "my_list = [1, 2 , 3, 4, 5, 6]\n",
    "a = np.array(my_list) #on créer un tableau 'a' à partir de 'my_list' en utilisant 'array'\n",
    "print(f'{a=}')"
   ]
  },
  {
   "cell_type": "code",
   "execution_count": 8,
   "metadata": {},
   "outputs": [
    {
     "name": "stdout",
     "output_type": "stream",
     "text": [
      "a=array([1, 2, 3, 4, 5, 6])\n"
     ]
    }
   ],
   "source": [
    "\n",
    "b_with_array = np.array(a) # on crée une copie de 'a' en utilisant 'array'\n",
    "\n",
    "b_with_asarray = np.asarray(a) # on crée un nouveau tableau qui pointe vers 'a' avec 'asarray'\n",
    "\n",
    "#si on modifie 'b_with_array', 'a' reste inchangé\n",
    "b_with_array[0]=5\n",
    "print(f'{a=}')\n"
   ]
  },
  {
   "cell_type": "code",
   "execution_count": 10,
   "metadata": {},
   "outputs": [
    {
     "name": "stdout",
     "output_type": "stream",
     "text": [
      "a=array([5, 2, 3, 4, 5, 6])\n"
     ]
    }
   ],
   "source": [
    "#si on modifie 'b_with_asarray', 'a' est également modifié\n",
    "b_with_asarray[0]=5\n",
    "print(f'{a=}')\n"
   ]
  },
  {
   "cell_type": "code",
   "execution_count": null,
   "metadata": {},
   "outputs": [],
   "source": [
    "a = np.ones()"
   ]
  }
 ],
 "metadata": {
  "kernelspec": {
   "display_name": "base",
   "language": "python",
   "name": "python3"
  },
  "language_info": {
   "codemirror_mode": {
    "name": "ipython",
    "version": 3
   },
   "file_extension": ".py",
   "mimetype": "text/x-python",
   "name": "python",
   "nbconvert_exporter": "python",
   "pygments_lexer": "ipython3",
   "version": "3.11.4"
  },
  "orig_nbformat": 4
 },
 "nbformat": 4,
 "nbformat_minor": 2
}
