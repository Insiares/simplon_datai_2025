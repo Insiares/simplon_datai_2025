{
 "cells": [
  {
   "cell_type": "markdown",
   "metadata": {},
   "source": [
    "## Exo 1 \n",
    "Créez un tableau NumPy contenant les entiers de 1 à 10 (inclus)."
   ]
  },
  {
   "cell_type": "code",
   "execution_count": 1,
   "metadata": {},
   "outputs": [
    {
     "name": "stdout",
     "output_type": "stream",
     "text": [
      "[ 0  1  2  3  4  5  6  7  8  9 10]\n"
     ]
    }
   ],
   "source": [
    "import numpy as np\n",
    "\n",
    "x= []\n",
    "for i in range(11):\n",
    "    x.append(i)\n",
    "\n",
    "x = np.array(x)\n",
    "\n",
    "print(x)"
   ]
  },
  {
   "cell_type": "markdown",
   "metadata": {},
   "source": [
    "## Exo 2\n",
    "Créez un tableau NumPy contenant 5 valeurs flottantes générées aléatoirement entre 0 et 1."
   ]
  },
  {
   "cell_type": "code",
   "execution_count": 2,
   "metadata": {},
   "outputs": [
    {
     "name": "stdout",
     "output_type": "stream",
     "text": [
      "[0.87443058 0.08138092 0.88989607 0.61964538 0.70466354]\n"
     ]
    }
   ],
   "source": [
    "rand = np.random.default_rng()\n",
    "y= rand.random(5)\n",
    "print(y)"
   ]
  },
  {
   "cell_type": "markdown",
   "metadata": {},
   "source": [
    "## Exo 3 \n",
    "Créez une fonction qui prend un tableau NumPy en entrée et renvoie la somme de ses éléments."
   ]
  },
  {
   "cell_type": "code",
   "execution_count": 3,
   "metadata": {},
   "outputs": [
    {
     "name": "stdout",
     "output_type": "stream",
     "text": [
      "3.1700164967112796\n"
     ]
    }
   ],
   "source": [
    "#basique\n",
    "def somme(tab:np.array):\n",
    "    res = 0\n",
    "    for i in tab: \n",
    "        res = res + i\n",
    "    print(res)\n",
    "\n",
    "somme(y)"
   ]
  },
  {
   "cell_type": "code",
   "execution_count": 4,
   "metadata": {},
   "outputs": [
    {
     "name": "stdout",
     "output_type": "stream",
     "text": [
      "3.1700164967112796\n"
     ]
    }
   ],
   "source": [
    "#numpy specific\n",
    "print(np.sum(y))"
   ]
  },
  {
   "cell_type": "markdown",
   "metadata": {},
   "source": [
    "## Exo 4 \n",
    "Créez une fonction qui prend deux tableaux NumPy en entrée et renvoie le produit scalaire de ces deux tableaux (dot product)."
   ]
  },
  {
   "cell_type": "code",
   "execution_count": 5,
   "metadata": {},
   "outputs": [
    {
     "name": "stdout",
     "output_type": "stream",
     "text": [
      "1.0380989220944317\n"
     ]
    }
   ],
   "source": [
    "\n",
    "a = rand.random(3)\n",
    "b= rand.random(3)\n",
    "print(np.dot(a,b))"
   ]
  },
  {
   "cell_type": "markdown",
   "metadata": {},
   "source": [
    "## Exo 5 \n",
    "Créez une fonction qui prend un tableau NumPy en entrée et renvoie un nouveau tableau contenant uniquement les éléments uniques du tableau d'origine."
   ]
  },
  {
   "cell_type": "code",
   "execution_count": 6,
   "metadata": {},
   "outputs": [
    {
     "name": "stdout",
     "output_type": "stream",
     "text": [
      "[1 2 3 4 5]\n"
     ]
    }
   ],
   "source": [
    "c = np.array([1,1,1,2,3,4,5])\n",
    "c_unique = np.unique(c)\n",
    "print(c_unique)"
   ]
  },
  {
   "cell_type": "markdown",
   "metadata": {},
   "source": [
    "## Exo 6\n",
    "Créez une fonction qui prend un tableau NumPy en entrée et renvoie un nouveau tableau contenant les éléments triés par ordre croissant."
   ]
  },
  {
   "cell_type": "code",
   "execution_count": 7,
   "metadata": {},
   "outputs": [
    {
     "name": "stdout",
     "output_type": "stream",
     "text": [
      "gen:  [0.43084922 0.44928049 0.60025952 0.89932066 0.1847155  0.33068967\n",
      " 0.10543396 0.52078273 0.73895968 0.57747484]\n",
      "sorted : [0.10543396 0.1847155  0.33068967 0.43084922 0.44928049 0.52078273\n",
      " 0.57747484 0.60025952 0.73895968 0.89932066]\n"
     ]
    }
   ],
   "source": [
    "d = rand.random(10)\n",
    "print('gen: ',d)\n",
    "d = np.sort(d)\n",
    "print('sorted :',d)"
   ]
  },
  {
   "cell_type": "markdown",
   "metadata": {},
   "source": [
    "## Exo 7\n",
    "Créez une fonction qui prend un tableau NumPy en entrée et renvoie la moyenne, la médiane et l'écart type de ses éléments."
   ]
  },
  {
   "cell_type": "code",
   "execution_count": 8,
   "metadata": {},
   "outputs": [
    {
     "name": "stdout",
     "output_type": "stream",
     "text": [
      " e=array([0.3151823 , 0.39656023, 0.7268321 , 0.88251209, 0.78818334,\n",
      "       0.87266147, 0.38039709, 0.22551645, 0.1865668 , 0.71793165]) \n",
      " moy=0.5492343523874015 \n",
      " med=0.5572459385548221 \n",
      " sigma=0.2599408231313398\n"
     ]
    }
   ],
   "source": [
    "e = rand.random(10)\n",
    "moy = np.mean(e)\n",
    "med = np.median(e)\n",
    "sigma = np.std(e)\n",
    "print(f' {e=} \\n {moy=} \\n {med=} \\n {sigma=}')"
   ]
  },
  {
   "cell_type": "markdown",
   "metadata": {},
   "source": [
    "## Exo 8\n",
    "Créez une fonction qui prend un tableau NumPy en entrée et renvoie un nouveau tableau où tous les éléments inférieurs à 5 sont remplacés par 0 et tous les éléments supérieurs ou égaux à 5 sont remplacés par 1."
   ]
  },
  {
   "cell_type": "code",
   "execution_count": 9,
   "metadata": {},
   "outputs": [
    {
     "name": "stdout",
     "output_type": "stream",
     "text": [
      "[0 1 2 3 4 5 6 7 8 9]\n",
      "[0 0 0 0 0 1 1 1 1 1]\n"
     ]
    }
   ],
   "source": [
    "z= np.arange(10)\n",
    "print(z)\n",
    "np.place(z,z<5,[0])\n",
    "np.place(z,z>=5,[1])\n",
    "print(z)"
   ]
  },
  {
   "cell_type": "markdown",
   "metadata": {},
   "source": [
    "## Exo 9\n",
    "Créez un tableau NumPy 2D de taille 3x3 contenant des valeurs entières générées aléatoirement entre 1 et 10."
   ]
  },
  {
   "cell_type": "code",
   "execution_count": 10,
   "metadata": {},
   "outputs": [
    {
     "name": "stdout",
     "output_type": "stream",
     "text": [
      "[4 5 9 2 2 4 7 1 9]\n",
      "[[4 5 9]\n",
      " [2 2 4]\n",
      " [7 1 9]]\n"
     ]
    }
   ],
   "source": [
    "rng = np.random.default_rng()\n",
    "arr = rng.integers(low=1, high=10,size=9)\n",
    "print(arr)\n",
    "arr_2d = np.reshape(arr,(3,3))\n",
    "print(arr_2d)"
   ]
  }
 ],
 "metadata": {
  "kernelspec": {
   "display_name": "Python 3",
   "language": "python",
   "name": "python3"
  },
  "language_info": {
   "codemirror_mode": {
    "name": "ipython",
    "version": 3
   },
   "file_extension": ".py",
   "mimetype": "text/x-python",
   "name": "python",
   "nbconvert_exporter": "python",
   "pygments_lexer": "ipython3",
   "version": "3.11.4"
  },
  "orig_nbformat": 4
 },
 "nbformat": 4,
 "nbformat_minor": 2
}
