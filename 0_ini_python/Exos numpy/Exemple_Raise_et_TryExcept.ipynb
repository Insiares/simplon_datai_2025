{
 "cells": [
  {
   "cell_type": "markdown",
   "metadata": {},
   "source": [
    "## Exceptions et Raise Error\n",
    "Les exceptions sont renvoyés quand quelque chose déraille, dans le code ou dans les inputs. Quand une exception arrive, le programme cesse de s'éxécuter."
   ]
  },
  {
   "cell_type": "code",
   "execution_count": 1,
   "metadata": {},
   "outputs": [
    {
     "ename": "ZeroDivisionError",
     "evalue": "division by zero",
     "output_type": "error",
     "traceback": [
      "\u001b[1;31m---------------------------------------------------------------------------\u001b[0m",
      "\u001b[1;31mZeroDivisionError\u001b[0m                         Traceback (most recent call last)",
      "\u001b[1;32mc:\\Users\\simplet\\Projects\\Course_Data\\simplon_datai_2025\\0\\Exos numpy\\Exemple_Raise_et_TryExcept.ipynb Cell 2\u001b[0m line \u001b[0;36m1\n\u001b[1;32m----> <a href='vscode-notebook-cell:/c%3A/Users/simplet/Projects/Course_Data/simplon_datai_2025/0/Exos%20numpy/Exemple_Raise_et_TryExcept.ipynb#W1sZmlsZQ%3D%3D?line=0'>1</a>\u001b[0m \u001b[39mprint\u001b[39m(\u001b[39m2\u001b[39;49m\u001b[39m/\u001b[39;49m\u001b[39m0\u001b[39;49m)\n",
      "\u001b[1;31mZeroDivisionError\u001b[0m: division by zero"
     ]
    }
   ],
   "source": [
    "print(2/0)"
   ]
  },
  {
   "cell_type": "markdown",
   "metadata": {},
   "source": [
    "On peut voir que python nous renvoit ici une exception qui est built-in, et qu'il reconnait (\"ZeroDivisionError\"). \n",
    "Au besoin, il est possible de créer ses propres exceptions et message d'erreur grâce à **raise**. \n",
    "Un exemple:"
   ]
  },
  {
   "cell_type": "code",
   "execution_count": 3,
   "metadata": {},
   "outputs": [
    {
     "name": "stdout",
     "output_type": "stream",
     "text": [
      "miam!\n",
      "miam!\n",
      "miam!\n"
     ]
    },
    {
     "ename": "ValueError",
     "evalue": "C'est une pizza, pas une salade de fruit! ",
     "output_type": "error",
     "traceback": [
      "\u001b[1;31m---------------------------------------------------------------------------\u001b[0m",
      "\u001b[1;31mValueError\u001b[0m                                Traceback (most recent call last)",
      "\u001b[1;32mc:\\Users\\simplet\\Projects\\Course_Data\\simplon_datai_2025\\0\\Exos numpy\\Exemple_Raise_et_TryExcept.ipynb Cell 4\u001b[0m line \u001b[0;36m6\n\u001b[0;32m      <a href='vscode-notebook-cell:/c%3A/Users/simplet/Projects/Course_Data/simplon_datai_2025/0/Exos%20numpy/Exemple_Raise_et_TryExcept.ipynb#W3sZmlsZQ%3D%3D?line=3'>4</a>\u001b[0m \u001b[39mfor\u001b[39;00m i \u001b[39min\u001b[39;00m ingredients:\n\u001b[0;32m      <a href='vscode-notebook-cell:/c%3A/Users/simplet/Projects/Course_Data/simplon_datai_2025/0/Exos%20numpy/Exemple_Raise_et_TryExcept.ipynb#W3sZmlsZQ%3D%3D?line=4'>5</a>\u001b[0m     \u001b[39mif\u001b[39;00m i \u001b[39m==\u001b[39m \u001b[39m\"\u001b[39m\u001b[39mpineapple\u001b[39m\u001b[39m\"\u001b[39m:\n\u001b[1;32m----> <a href='vscode-notebook-cell:/c%3A/Users/simplet/Projects/Course_Data/simplon_datai_2025/0/Exos%20numpy/Exemple_Raise_et_TryExcept.ipynb#W3sZmlsZQ%3D%3D?line=5'>6</a>\u001b[0m         \u001b[39mraise\u001b[39;00m \u001b[39mValueError\u001b[39;00m(\u001b[39m\"\u001b[39m\u001b[39mC\u001b[39m\u001b[39m'\u001b[39m\u001b[39mest une pizza, pas une salade de fruit! \u001b[39m\u001b[39m\"\u001b[39m)\n\u001b[0;32m      <a href='vscode-notebook-cell:/c%3A/Users/simplet/Projects/Course_Data/simplon_datai_2025/0/Exos%20numpy/Exemple_Raise_et_TryExcept.ipynb#W3sZmlsZQ%3D%3D?line=6'>7</a>\u001b[0m     \u001b[39melse\u001b[39;00m:\n\u001b[0;32m      <a href='vscode-notebook-cell:/c%3A/Users/simplet/Projects/Course_Data/simplon_datai_2025/0/Exos%20numpy/Exemple_Raise_et_TryExcept.ipynb#W3sZmlsZQ%3D%3D?line=7'>8</a>\u001b[0m         \u001b[39mprint\u001b[39m(\u001b[39m'\u001b[39m\u001b[39mmiam!\u001b[39m\u001b[39m'\u001b[39m)\n",
      "\u001b[1;31mValueError\u001b[0m: C'est une pizza, pas une salade de fruit! "
     ]
    }
   ],
   "source": [
    "#on veut faire une pizza, une vrai.\n",
    "#et on choisi les bons ingrédients        \n",
    "ingredients = [\"cheese\", \"onions\", \"ham\", \"pineapple\"]\n",
    "for i in ingredients:\n",
    "    if i == \"pineapple\":\n",
    "        raise ValueError(\"C'est une pizza, pas une salade de fruit! \")\n",
    "    else:\n",
    "        print('miam!')\n",
    "print(\"C'est prêt!\")"
   ]
  },
  {
   "cell_type": "markdown",
   "metadata": {},
   "source": [
    "Un autre exemple, tiré de l'exo 1 que nous avons fait:"
   ]
  },
  {
   "cell_type": "code",
   "execution_count": 4,
   "metadata": {},
   "outputs": [
    {
     "ename": "TypeError",
     "evalue": "On a dit un E N T I E R   P O S I T I F",
     "output_type": "error",
     "traceback": [
      "\u001b[1;31m---------------------------------------------------------------------------\u001b[0m",
      "\u001b[1;31mTypeError\u001b[0m                                 Traceback (most recent call last)",
      "\u001b[1;32mc:\\Users\\simplet\\Projects\\Course_Data\\simplon_datai_2025\\0\\Exos numpy\\Exemple_Raise_et_TryExcept.ipynb Cell 6\u001b[0m line \u001b[0;36m3\n\u001b[0;32m      <a href='vscode-notebook-cell:/c%3A/Users/simplet/Projects/Course_Data/simplon_datai_2025/0/Exos%20numpy/Exemple_Raise_et_TryExcept.ipynb#W5sZmlsZQ%3D%3D?line=0'>1</a>\u001b[0m nb \u001b[39m=\u001b[39m \u001b[39minput\u001b[39m(\u001b[39m'\u001b[39m\u001b[39mChoisir un entier positif\u001b[39m\u001b[39m'\u001b[39m)\n\u001b[0;32m      <a href='vscode-notebook-cell:/c%3A/Users/simplet/Projects/Course_Data/simplon_datai_2025/0/Exos%20numpy/Exemple_Raise_et_TryExcept.ipynb#W5sZmlsZQ%3D%3D?line=1'>2</a>\u001b[0m \u001b[39mif\u001b[39;00m nb\u001b[39m.\u001b[39misnumeric() \u001b[39m==\u001b[39m \u001b[39mFalse\u001b[39;00m:\n\u001b[1;32m----> <a href='vscode-notebook-cell:/c%3A/Users/simplet/Projects/Course_Data/simplon_datai_2025/0/Exos%20numpy/Exemple_Raise_et_TryExcept.ipynb#W5sZmlsZQ%3D%3D?line=2'>3</a>\u001b[0m     \u001b[39mraise\u001b[39;00m \u001b[39mTypeError\u001b[39;00m(\u001b[39m'\u001b[39m\u001b[39mOn a dit un E N T I E R   P O S I T I F\u001b[39m\u001b[39m'\u001b[39m)\n\u001b[0;32m      <a href='vscode-notebook-cell:/c%3A/Users/simplet/Projects/Course_Data/simplon_datai_2025/0/Exos%20numpy/Exemple_Raise_et_TryExcept.ipynb#W5sZmlsZQ%3D%3D?line=3'>4</a>\u001b[0m \u001b[39melse\u001b[39;00m:\n\u001b[0;32m      <a href='vscode-notebook-cell:/c%3A/Users/simplet/Projects/Course_Data/simplon_datai_2025/0/Exos%20numpy/Exemple_Raise_et_TryExcept.ipynb#W5sZmlsZQ%3D%3D?line=4'>5</a>\u001b[0m     \u001b[39mprint\u001b[39m(\u001b[39m\"\u001b[39m\u001b[39mBravo à tous!\u001b[39m\u001b[39m\"\u001b[39m)\n",
      "\u001b[1;31mTypeError\u001b[0m: On a dit un E N T I E R   P O S I T I F"
     ]
    }
   ],
   "source": [
    "nb = input('Choisir un entier positif')\n",
    "if nb.isnumeric() == False:\n",
    "    raise TypeError('On a dit un E N T I E R   P O S I T I F')\n",
    "else:\n",
    "    print(\"Bravo à tous!\")"
   ]
  },
  {
   "cell_type": "markdown",
   "metadata": {},
   "source": [
    "Error   "
   ]
  }
 ],
 "metadata": {
  "kernelspec": {
   "display_name": "Python 3",
   "language": "python",
   "name": "python3"
  },
  "language_info": {
   "codemirror_mode": {
    "name": "ipython",
    "version": 3
   },
   "file_extension": ".py",
   "mimetype": "text/x-python",
   "name": "python",
   "nbconvert_exporter": "python",
   "pygments_lexer": "ipython3",
   "version": "3.11.5"
  },
  "orig_nbformat": 4
 },
 "nbformat": 4,
 "nbformat_minor": 2
}
