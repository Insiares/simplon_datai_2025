{
 "cells": [
  {
   "cell_type": "markdown",
   "metadata": {},
   "source": [
    "## Exceptions et Raise Error\n",
    "Les exceptions sont renvoyés quand quelque chose déraille, dans le code ou dans les inputs. Quand une exception arrive, le programme cesse de s'éxécuter."
   ]
  },
  {
   "cell_type": "code",
   "execution_count": null,
   "metadata": {},
   "outputs": [],
   "source": [
    "print(2/0)"
   ]
  },
  {
   "cell_type": "markdown",
   "metadata": {},
   "source": [
    "On peut voir que python nous renvoit ici une exception qui est built-in, et qu'il reconnait (\"ZeroDivisionError\"). \n",
    "Au besoin, il est possible de créer ses propres exceptions et message d'erreur grâce à **raise**. \n",
    "Un exemple:"
   ]
  },
  {
   "cell_type": "code",
   "execution_count": null,
   "metadata": {},
   "outputs": [],
   "source": [
    "#on veut faire une pizza, une vrai.\n",
    "#et on choisi les bons ingrédients        \n",
    "ingredients = [\"cheese\", \"onions\", \"ham\"]\n",
    "for i in ingredients:\n",
    "    if i == \"pineapple\":\n",
    "        raise TypeError(\"C'est une pizza, pas une salade de fruit! \")\n",
    "    else:\n",
    "        print('miam!')\n",
    "print(\"C'est prêt!\")"
   ]
  },
  {
   "cell_type": "markdown",
   "metadata": {},
   "source": [
    "Un autre exemple, tiré de l'exo 1 que nous avons fait:"
   ]
  },
  {
   "cell_type": "code",
   "execution_count": null,
   "metadata": {},
   "outputs": [],
   "source": [
    "nb = input('Choisir un entier positif')\n",
    "if nb.isnumeric() == False:\n",
    "    raise TypeError('On a dit un E N T I E R   P O S I T I F')\n",
    "else:\n",
    "    print(\"Bravo à tous!\")"
   ]
  }
 ],
 "metadata": {
  "kernelspec": {
   "display_name": "Python 3",
   "language": "python",
   "name": "python3"
  },
  "language_info": {
   "codemirror_mode": {
    "name": "ipython",
    "version": 3
   },
   "file_extension": ".py",
   "mimetype": "text/x-python",
   "name": "python",
   "nbconvert_exporter": "python",
   "pygments_lexer": "ipython3",
   "version": "3.11.5"
  },
  "orig_nbformat": 4
 },
 "nbformat": 4,
 "nbformat_minor": 2
}
