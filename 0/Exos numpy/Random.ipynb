{
 "cells": [
  {
   "cell_type": "markdown",
   "metadata": {},
   "source": [
    "## Random\n",
    "Test np.random et random seul  "
   ]
  },
  {
   "cell_type": "code",
   "execution_count": 45,
   "metadata": {},
   "outputs": [
    {
     "name": "stdout",
     "output_type": "stream",
     "text": [
      "Generator(PCG64)\n",
      "<class 'numpy.ndarray'>\n"
     ]
    },
    {
     "data": {
      "text/plain": [
       "array([0.96677685, 0.72566961, 0.95598105, 0.96450527, 0.14934901,\n",
       "       0.93954244, 0.41051887, 0.2119009 , 0.0303837 , 0.41492512,\n",
       "       0.97441848, 0.98339026, 0.1447932 , 0.16817103, 0.9493345 ,\n",
       "       0.19474144, 0.648785  , 0.46190568, 0.57451777, 0.71581447])"
      ]
     },
     "execution_count": 45,
     "metadata": {},
     "output_type": "execute_result"
    }
   ],
   "source": [
    "import numpy as np\n",
    "import random\n",
    "\n",
    "# np : créer un générateur, à appeler au besoin\n",
    "rng = np.random.default_rng()\n",
    "print(rng)\n",
    "\n",
    "\n",
    "a = rng.random(size=20)\n",
    "print(type(a))\n",
    "a\n"
   ]
  },
  {
   "cell_type": "code",
   "execution_count": 46,
   "metadata": {},
   "outputs": [
    {
     "name": "stdout",
     "output_type": "stream",
     "text": [
      "<class 'list'>\n",
      "2018726040064\n"
     ]
    }
   ],
   "source": [
    "my_list = [1, 2 , 3, 4, 5, 6]\n",
    "print(type(my_list))\n",
    "print(id(my_list))"
   ]
  },
  {
   "cell_type": "code",
   "execution_count": 47,
   "metadata": {},
   "outputs": [
    {
     "name": "stdout",
     "output_type": "stream",
     "text": [
      "<class 'numpy.int32'>\n",
      "[1 2 3 4 5 6]\n",
      "<class 'list'>\n",
      "2018735398640\n"
     ]
    }
   ],
   "source": [
    "b = np.array(my_list)\n",
    "print(type(b[0]))\n",
    "print(b)\n",
    "print(type(my_list))\n",
    "print(id(b))\n"
   ]
  },
  {
   "cell_type": "code",
   "execution_count": 48,
   "metadata": {},
   "outputs": [
    {
     "name": "stdout",
     "output_type": "stream",
     "text": [
      "<class 'numpy.int32'>\n",
      "<class 'int'>\n",
      "2018735801616\n"
     ]
    }
   ],
   "source": [
    "c = np.asarray(my_list)\n",
    "print(type(c[0]))\n",
    "c\n",
    "print(type(my_list[0]))\n",
    "print(id(c))\n",
    "\n"
   ]
  },
  {
   "cell_type": "code",
   "execution_count": 49,
   "metadata": {},
   "outputs": [
    {
     "name": "stdout",
     "output_type": "stream",
     "text": [
      "[1, 2, 3, 4, 5, 6]\n",
      "[5 2 3 4 5 6]\n",
      "[5 2 3 4 5 6]\n"
     ]
    }
   ],
   "source": [
    "c[0]=5\n",
    "b[0]=5\n",
    "print(my_list)\n",
    "print(c)\n",
    "print(b)"
   ]
  }
 ],
 "metadata": {
  "kernelspec": {
   "display_name": "base",
   "language": "python",
   "name": "python3"
  },
  "language_info": {
   "codemirror_mode": {
    "name": "ipython",
    "version": 3
   },
   "file_extension": ".py",
   "mimetype": "text/x-python",
   "name": "python",
   "nbconvert_exporter": "python",
   "pygments_lexer": "ipython3",
   "version": "3.11.4"
  },
  "orig_nbformat": 4
 },
 "nbformat": 4,
 "nbformat_minor": 2
}
